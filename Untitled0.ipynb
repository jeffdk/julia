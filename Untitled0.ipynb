{
 "metadata": {
  "language": "Julia",
  "name": ""
 },
 "nbformat": 3,
 "nbformat_minor": 0,
 "worksheets": [
  {
   "cells": [
    {
     "cell_type": "code",
     "collapsed": false,
     "input": [
      "using ODBC\n",
      "conn = ODBC.connect(\"ae\")"
     ],
     "language": "python",
     "metadata": {},
     "outputs": [
      {
       "output_type": "stream",
       "stream": "stdout",
       "text": [
        "ODBC Connection Object\n"
       ]
      },
      {
       "metadata": {},
       "output_type": "pyout",
       "prompt_number": 1,
       "text": []
      },
      {
       "output_type": "stream",
       "stream": "stdout",
       "text": [
        "----------------------\n",
        "Connection Data Source: ae\n",
        "ae Connection Number: 1\n",
        "Connection pointer: Ptr{Void} @0x000000000240c2d0\n",
        "Statement pointer: Ptr{Void} @0x0000000005091a10\n",
        "Contains resultset? No"
       ]
      }
     ],
     "prompt_number": 1
    },
    {
     "cell_type": "code",
     "collapsed": false,
     "input": [
      "using DataFrames"
     ],
     "language": "python",
     "metadata": {},
     "outputs": [],
     "prompt_number": 13
    },
    {
     "cell_type": "code",
     "collapsed": false,
     "input": [
      "df = DataFrame(A = 1:10, B = 2:2:20)"
     ],
     "language": "python",
     "metadata": {},
     "outputs": [
      {
       "metadata": {},
       "output_type": "pyout",
       "prompt_number": 14,
       "text": [
        "10x2 DataFrame:\n",
        "          A  B\n",
        "[1,]      1  2\n",
        "[2,]      2  4\n",
        "[3,]      3  6\n",
        "[4,]      4  8\n",
        "[5,]      5 10\n",
        "[6,]      6 12\n",
        "[7,]      7 14\n",
        "[8,]      8 16\n",
        "[9,]      9 18\n",
        "[10,]    10 20\n"
       ]
      }
     ],
     "prompt_number": 14
    },
    {
     "cell_type": "code",
     "collapsed": false,
     "input": [
      "df[1]"
     ],
     "language": "python",
     "metadata": {},
     "outputs": [
      {
       "metadata": {},
       "output_type": "pyout",
       "prompt_number": 15,
       "text": [
        "10-element DataArray{Int64,1}:\n",
        "  1\n",
        "  2\n",
        "  3\n",
        "  4\n",
        "  5\n",
        "  6\n",
        "  7\n",
        "  8\n",
        "  9\n",
        " 10"
       ]
      }
     ],
     "prompt_number": 15
    },
    {
     "cell_type": "code",
     "collapsed": false,
     "input": [
      "df[:A]"
     ],
     "language": "python",
     "metadata": {},
     "outputs": [
      {
       "metadata": {},
       "output_type": "pyout",
       "prompt_number": 16,
       "text": [
        "10-element DataArray{Int64,1}:\n",
        "  1\n",
        "  2\n",
        "  3\n",
        "  4\n",
        "  5\n",
        "  6\n",
        "  7\n",
        "  8\n",
        "  9\n",
        " 10"
       ]
      }
     ],
     "prompt_number": 16
    },
    {
     "cell_type": "code",
     "collapsed": false,
     "input": [
      "df[1, :A]"
     ],
     "language": "python",
     "metadata": {},
     "outputs": [
      {
       "metadata": {},
       "output_type": "pyout",
       "prompt_number": 17,
       "text": [
        "1"
       ]
      }
     ],
     "prompt_number": 17
    },
    {
     "cell_type": "code",
     "collapsed": false,
     "input": [
      "df[1, 1]"
     ],
     "language": "python",
     "metadata": {},
     "outputs": [
      {
       "metadata": {},
       "output_type": "pyout",
       "prompt_number": 18,
       "text": [
        "1"
       ]
      }
     ],
     "prompt_number": 18
    },
    {
     "cell_type": "code",
     "collapsed": false,
     "input": [
      "df[1:3, [:A, :B]]"
     ],
     "language": "python",
     "metadata": {},
     "outputs": [
      {
       "metadata": {},
       "output_type": "pyout",
       "prompt_number": 19,
       "text": [
        "3x2 DataFrame:\n",
        "        A B\n",
        "[1,]    1 2\n",
        "[2,]    2 4\n",
        "[3,]    3 6\n"
       ]
      }
     ],
     "prompt_number": 19
    },
    {
     "cell_type": "code",
     "collapsed": false,
     "input": [
      "df[1:3, [:B, :A]]"
     ],
     "language": "python",
     "metadata": {},
     "outputs": [
      {
       "metadata": {},
       "output_type": "pyout",
       "prompt_number": 20,
       "text": [
        "3x2 DataFrame:\n",
        "        B A\n",
        "[1,]    2 1\n",
        "[2,]    4 2\n",
        "[3,]    6 3\n"
       ]
      }
     ],
     "prompt_number": 20
    },
    {
     "cell_type": "code",
     "collapsed": false,
     "input": [
      "df[:A] % 2 .== 0"
     ],
     "language": "python",
     "metadata": {},
     "outputs": [
      {
       "metadata": {},
       "output_type": "pyout",
       "prompt_number": 21,
       "text": [
        "10-element DataArray{Bool,1}:\n",
        " false\n",
        "  true\n",
        " false\n",
        "  true\n",
        " false\n",
        "  true\n",
        " false\n",
        "  true\n",
        " false\n",
        "  true"
       ]
      }
     ],
     "prompt_number": 21
    },
    {
     "cell_type": "code",
     "collapsed": false,
     "input": [
      ".=="
     ],
     "language": "python",
     "metadata": {},
     "outputs": [
      {
       "metadata": {},
       "output_type": "pyout",
       "prompt_number": 22,
       "text": [
        ".== (generic function with 39 methods)"
       ]
      }
     ],
     "prompt_number": 22
    },
    {
     "cell_type": "code",
     "collapsed": false,
     "input": [
      "=="
     ],
     "language": "python",
     "metadata": {},
     "outputs": [
      {
       "metadata": {},
       "output_type": "pyout",
       "prompt_number": 23,
       "text": [
        "== (generic function with 50 methods)"
       ]
      }
     ],
     "prompt_number": 23
    },
    {
     "cell_type": "code",
     "collapsed": false,
     "input": [
      "methods(.==)"
     ],
     "language": "python",
     "metadata": {},
     "outputs": [
      {
       "metadata": {},
       "output_type": "pyout",
       "prompt_number": 24,
       "text": [
        "# 39 methods for generic function \".==\":\n",
        ".==(x::Number,y::Number) at operators.jl:85\n",
        ".==(a::DataArray{T,N},b::DataArray{T,N}) at /home/jeff/.julia/v0.2/DataFrames/src/operators.jl:201\n",
        ".==(a::DataArray{T,N},b::AbstractDataArray{T,N}) at /home/jeff/.julia/v0.2/DataFrames/src/operators.jl:220\n",
        ".==(a::DataArray{T,N},b::AbstractArray{T,N}) at /home/jeff/.julia/v0.2/DataFrames/src/operators.jl:201\n",
        ".==(a::AbstractDataArray{T,N},b::DataArray{T,N}) at /home/jeff/.julia/v0.2/DataFrames/src/operators.jl:220\n",
        ".==(a::AbstractArray{T,N},b::DataArray{T,N}) at /home/jeff/.julia/v0.2/DataFrames/src/operators.jl:201\n",
        ".==(a::AbstractDataArray{T,N},b::AbstractDataArray{T,N}) at /home/jeff/.julia/v0.2/DataFrames/src/operators.jl:220\n",
        ".==(a::AbstractDataArray{T,N},b::AbstractArray{T,N}) at /home/jeff/.julia/v0.2/DataFrames/src/operators.jl:220\n",
        ".==(a::AbstractArray{T,N},b::AbstractDataArray{T,N}) at /home/jeff/.julia/v0.2/DataFrames/src/operators.jl:220\n",
        ".==(A::AbstractArray{T,N},B::AbstractArray{T,N}) at bitarray.jl:1450\n",
        ".=={T,N}(::NAtype,b::AbstractArray{T,N}) at /home/jeff/.julia/v0.2/DataFrames/src/operators.jl:451\n",
        ".==(b::String,a::DataArray{T,N}) at /home/jeff/.julia/v0.2/DataFrames/src/operators.jl:172\n",
        ".==(b::String,a::AbstractDataArray{T,N}) at /home/jeff/.julia/v0.2/DataFrames/src/operators.jl:181\n",
        ".==(b::Number,a::DataArray{T,N}) at /home/jeff/.julia/v0.2/DataFrames/src/operators.jl:172\n",
        ".==(b::Number,a::AbstractDataArray{T,N}) at /home/jeff/.julia/v0.2/DataFrames/src/operators.jl:181\n",
        ".=={T<:Union(String,Number)}(v::T<:Union(String,Number),a::IndexedVector{T<:Union(String,Number),S<:AbstractArray{T,1}}) at /home/jeff/.julia/v0.2/DataFrames/src/indexing.jl:217\n",
        ".==(A,B::AbstractArray{T,N}) at bitarray.jl:1450\n",
        ".=={T,N}(b::AbstractArray{T,N},::NAtype) at /home/jeff/.julia/v0.2/DataFrames/src/operators.jl:451\n",
        ".==(a::DataArray{T,N},b::String) at /home/jeff/.julia/v0.2/DataFrames/src/operators.jl:172\n",
        ".==(a::AbstractDataArray{T,N},b::String) at /home/jeff/.julia/v0.2/DataFrames/src/operators.jl:181\n",
        ".==(a::DataArray{T,N},b::Number) at /home/jeff/.julia/v0.2/DataFrames/src/operators.jl:172\n",
        ".==(a::AbstractDataArray{T,N},b::Number) at /home/jeff/.julia/v0.2/DataFrames/src/operators.jl:181\n",
        ".=={T<:Union(String,Number)}(a::IndexedVector{T<:Union(String,Number),S<:AbstractArray{T,1}},v::T<:Union(String,Number)) at /home/jeff/.julia/v0.2/DataFrames/src/indexing.jl:216\n",
        ".==(A::AbstractArray{T,N},B) at bitarray.jl:1450\n",
        ".==(::NAtype,::NAtype) at /home/jeff/.julia/v0.2/DataFrames/src/operators.jl:455\n",
        ".==(b::NAtype,a::DataFrame) at /home/jeff/.julia/v0.2/DataFrames/src/operators.jl:244\n",
        ".=={T<:NAtype}(x::T<:NAtype,dt::DDataFrame) at /home/jeff/.julia/v0.2/DataFrames/src/dataframe_blocks.jl:438\n",
        ".==(::NAtype,b) at /home/jeff/.julia/v0.2/DataFrames/src/operators.jl:457\n",
        ".==(a::DataFrame,b::NAtype) at /home/jeff/.julia/v0.2/DataFrames/src/operators.jl:244\n",
        ".=={T<:NAtype}(dt::DDataFrame,x::T<:NAtype) at /home/jeff/.julia/v0.2/DataFrames/src/dataframe_blocks.jl:434\n",
        ".==(b,::NAtype) at /home/jeff/.julia/v0.2/DataFrames/src/operators.jl:457\n",
        ".==(a::DataFrame,b::DataFrame) at /home/jeff/.julia/v0.2/DataFrames/src/operators.jl:239\n",
        ".==(a::DataFrame,b::Union(String,Number)) at /home/jeff/.julia/v0.2/DataFrames/src/operators.jl:242\n",
        ".==(b::Union(String,Number),a::DataFrame) at /home/jeff/.julia/v0.2/DataFrames/src/operators.jl:242\n",
        ".=={T<:Number}(dt::DDataFrame,x::T<:Number) at /home/jeff/.julia/v0.2/DataFrames/src/dataframe_blocks.jl:434\n",
        ".=={T<:Number}(x::T<:Number,dt::DDataFrame) at /home/jeff/.julia/v0.2/DataFrames/src/dataframe_blocks.jl:438\n",
        ".=={T<:String}(dt::DDataFrame,x::T<:String) at /home/jeff/.julia/v0.2/DataFrames/src/dataframe_blocks.jl:434\n",
        ".=={T<:String}(x::T<:String,dt::DDataFrame) at /home/jeff/.julia/v0.2/DataFrames/src/dataframe_blocks.jl:438\n",
        ".==(a::DDataFrame,b::DDataFrame) at /home/jeff/.julia/v0.2/DataFrames/src/dataframe_blocks.jl:445"
       ]
      }
     ],
     "prompt_number": 24
    },
    {
     "cell_type": "code",
     "collapsed": false,
     "input": [
      "describe(.==)"
     ],
     "language": "python",
     "metadata": {},
     "outputs": [
      {
       "ename": "LoadError",
       "evalue": "no method describe(Function,)\nat In[25]:1",
       "output_type": "pyerr",
       "traceback": [
        "no method describe(Function,)\nat In[25]:1"
       ]
      }
     ],
     "prompt_number": 25
    },
    {
     "cell_type": "code",
     "collapsed": false,
     "input": [
      "describe(df)"
     ],
     "language": "python",
     "metadata": {},
     "outputs": [
      {
       "output_type": "stream",
       "stream": "stdout",
       "text": [
        "A\n"
       ]
      },
      {
       "output_type": "stream",
       "stream": "stdout",
       "text": [
        "Min      1.0"
       ]
      },
      {
       "output_type": "stream",
       "stream": "stdout",
       "text": [
        "\n",
        "1st Qu.  3.25\n",
        "Median   5.5\n",
        "Mean     5.5\n",
        "3rd Qu.  7.75\n",
        "Max      10.0\n",
        "NAs      0\n",
        "NA%      0.0%\n",
        "\n",
        "B\n",
        "Min      2.0\n",
        "1st Qu.  6.5\n",
        "Median   11.0\n",
        "Mean     11.0\n",
        "3rd Qu.  15.5\n",
        "Max      20.0\n",
        "NAs      0\n",
        "NA%      0.0%\n",
        "\n"
       ]
      }
     ],
     "prompt_number": 26
    },
    {
     "cell_type": "code",
     "collapsed": false,
     "input": [
      "Pkg.add(\"PyPlot\")"
     ],
     "language": "python",
     "metadata": {},
     "outputs": [
      {
       "output_type": "stream",
       "stream": "stderr",
       "text": [
        "INFO: Cloning cache of Color from git://github.com/JuliaLang/Color.jl.git"
       ]
      },
      {
       "output_type": "stream",
       "stream": "stderr",
       "text": [
        "\n"
       ]
      },
      {
       "output_type": "stream",
       "stream": "stderr",
       "text": [
        "INFO: Cloning cache of PyCall from git://github.com/stevengj/PyCall.jl.git"
       ]
      },
      {
       "output_type": "stream",
       "stream": "stderr",
       "text": [
        "\n"
       ]
      },
      {
       "output_type": "stream",
       "stream": "stderr",
       "text": [
        "INFO: Cloning cache of PyPlot from git://github.com/stevengj/PyPlot.jl.git"
       ]
      },
      {
       "output_type": "stream",
       "stream": "stderr",
       "text": [
        "\n"
       ]
      },
      {
       "output_type": "stream",
       "stream": "stderr",
       "text": [
        "INFO: Installing Color v0.2.9"
       ]
      },
      {
       "output_type": "stream",
       "stream": "stderr",
       "text": [
        "\n"
       ]
      },
      {
       "output_type": "stream",
       "stream": "stderr",
       "text": [
        "INFO: Installing PyCall v0.4.4"
       ]
      },
      {
       "output_type": "stream",
       "stream": "stderr",
       "text": [
        "\n"
       ]
      },
      {
       "output_type": "stream",
       "stream": "stderr",
       "text": [
        "INFO: Installing PyPlot v1.2.5"
       ]
      },
      {
       "output_type": "stream",
       "stream": "stderr",
       "text": [
        "\n"
       ]
      },
      {
       "output_type": "stream",
       "stream": "stderr",
       "text": [
        "INFO: REQUIRE updated."
       ]
      },
      {
       "output_type": "stream",
       "stream": "stderr",
       "text": [
        "\n"
       ]
      }
     ],
     "prompt_number": 1
    },
    {
     "cell_type": "code",
     "collapsed": false,
     "input": [
      "Pkg.add(\"Sundials\")"
     ],
     "language": "python",
     "metadata": {},
     "outputs": [
      {
       "output_type": "stream",
       "stream": "stderr",
       "text": [
        "INFO: Cloning cache of Sundials from git://github.com/JuliaLang/Sundials.jl.git"
       ]
      },
      {
       "output_type": "stream",
       "stream": "stderr",
       "text": [
        "\n"
       ]
      },
      {
       "output_type": "stream",
       "stream": "stderr",
       "text": [
        "INFO: Installing Sundials v0.0.0"
       ]
      },
      {
       "output_type": "stream",
       "stream": "stderr",
       "text": [
        "\n"
       ]
      },
      {
       "output_type": "stream",
       "stream": "stderr",
       "text": [
        "INFO: REQUIRE updated."
       ]
      },
      {
       "output_type": "stream",
       "stream": "stderr",
       "text": [
        "\n"
       ]
      }
     ],
     "prompt_number": 3
    },
    {
     "cell_type": "code",
     "collapsed": false,
     "input": [],
     "language": "python",
     "metadata": {},
     "outputs": []
    }
   ],
   "metadata": {}
  }
 ]
}